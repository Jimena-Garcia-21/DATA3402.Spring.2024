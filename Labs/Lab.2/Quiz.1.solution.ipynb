{
 "cells": [
  {
   "cell_type": "markdown",
   "id": "9eca15cc-3cb2-4337-a841-929b8ba6c870",
   "metadata": {},
   "source": [
    "### Quick Quiz\n",
    "\n",
    "Can you rewrite create_new_args as a two lines of code using functional programming, list comprehensions, and shortcuts? How about a single line?"
   ]
  },
  {
   "cell_type": "code",
   "execution_count": 26,
   "id": "d5fbc7f7-e696-4f30-9ced-77ea183c7bc5",
   "metadata": {},
   "outputs": [],
   "source": [
    "def create_new_args_0(args):\n",
    "    max_len = max(map(len,\n",
    "                      filter(lambda x: isinstance(x,list),\n",
    "                        args)))\n",
    "    new_args = list(map(lambda a: [a]*max_len if not isinstance(a,list) else (print(\"Error: all list arguments must have same length.\") if len(a) != max_len else a),args))\n",
    "    return new_args"
   ]
  },
  {
   "cell_type": "code",
   "execution_count": 27,
   "id": "e4fcc48e-0a25-46d8-aacc-d0e18e45024a",
   "metadata": {},
   "outputs": [
    {
     "data": {
      "text/plain": [
       "[[1, 2], [3, 4], [5, 5]]"
      ]
     },
     "execution_count": 27,
     "metadata": {},
     "output_type": "execute_result"
    }
   ],
   "source": [
    "create_new_args_0([[1,2],[3,4],5])"
   ]
  },
  {
   "cell_type": "code",
   "execution_count": 28,
   "id": "4a2b9640-c1f1-4961-9850-478f5a555e54",
   "metadata": {},
   "outputs": [
    {
     "name": "stdout",
     "output_type": "stream",
     "text": [
      "Error: all list arguments must have same length.\n"
     ]
    },
    {
     "data": {
      "text/plain": [
       "[None, [3, 4, 5], [5, 5, 5]]"
      ]
     },
     "execution_count": 28,
     "metadata": {},
     "output_type": "execute_result"
    }
   ],
   "source": [
    "create_new_args_0([[1,2],[3,4,5],5])"
   ]
  }
 ],
 "metadata": {
  "kernelspec": {
   "display_name": "Python 3 (ipykernel)",
   "language": "python",
   "name": "python3"
  },
  "language_info": {
   "codemirror_mode": {
    "name": "ipython",
    "version": 3
   },
   "file_extension": ".py",
   "mimetype": "text/x-python",
   "name": "python",
   "nbconvert_exporter": "python",
   "pygments_lexer": "ipython3",
   "version": "3.10.12"
  }
 },
 "nbformat": 4,
 "nbformat_minor": 5
}
