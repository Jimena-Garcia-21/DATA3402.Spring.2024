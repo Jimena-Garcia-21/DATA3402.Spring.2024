{
 "cells": [
  {
   "cell_type": "markdown",
   "metadata": {},
   "source": [
    "## Lab 2- Tic Tac Toe\n",
    "\n",
    "In this lab your will build a n x n Tic Tac Toe game. As you do the exercises, make sure your solutions work for any size Tic Tac Toe game. "
   ]
  },
  {
   "cell_type": "markdown",
   "metadata": {},
   "source": [
    "*Exercise 1:* Write a function that creates an n by n matrix (of list of lists) which will represent the state of a Tie Tac Toe game. Let 0, 1, and 2 represent empty, \"X\", and \"O\", respectively.\n"
   ]
  },
  {
   "cell_type": "code",
   "execution_count": 13,
   "metadata": {},
   "outputs": [],
   "source": [
    "def make_new_board(n):\n",
    "    player_1 = 1\n",
    "    player_2 = 2\n",
    "    empty = 0\n",
    "    \n",
    "    size = n\n",
    "    board=list()\n",
    "    for i in range(size):\n",
    "        board.append([empty]*size)\n",
    "    return board    "
   ]
  },
  {
   "cell_type": "code",
   "execution_count": 14,
   "metadata": {},
   "outputs": [],
   "source": [
    "board = make_new_board(3)"
   ]
  },
  {
   "cell_type": "markdown",
   "metadata": {},
   "source": [
    "*Exercise 2:* Write a function that takes 2 integers `n` and `m` as input and draws a `n` by `m` game board. For example the following is a 3x3 board:\n",
    "```\n",
    "   --- --- --- \n",
    "  |   |   |   | \n",
    "   --- --- ---  \n",
    "  |   |   |   | \n",
    "   --- --- ---  \n",
    "  |   |   |   | \n",
    "   --- --- --- \n",
    "   ```"
   ]
  },
  {
   "cell_type": "code",
   "execution_count": 15,
   "metadata": {},
   "outputs": [],
   "source": [
    "def draw_game_board(n,m):\n",
    "    col_indicator = '---'\n",
    "    row_indicator = '|'\n",
    "    rows = [col_indicator] * (m)\n",
    "    cols = [row_indicator] * (m+1)\n",
    "    for i in range(n+1):\n",
    "        print('',end=' ')\n",
    "        print(' '.join(rows))\n",
    "        if i == n:\n",
    "            break\n",
    "        print('   '.join(cols))             "
   ]
  },
  {
   "cell_type": "code",
   "execution_count": 16,
   "metadata": {},
   "outputs": [
    {
     "name": "stdout",
     "output_type": "stream",
     "text": [
      " --- --- ---\n",
      "|   |   |   |\n",
      " --- --- ---\n",
      "|   |   |   |\n",
      " --- --- ---\n",
      "|   |   |   |\n",
      " --- --- ---\n",
      " --- --- ---\n",
      "|   |   |   |\n",
      " --- --- ---\n",
      "|   |   |   |\n",
      " --- --- ---\n",
      "|   |   |   |\n",
      " --- --- ---\n",
      "|   |   |   |\n",
      " --- --- ---\n",
      "|   |   |   |\n",
      " --- --- ---\n",
      "|   |   |   |\n",
      " --- --- ---\n",
      "|   |   |   |\n",
      " --- --- ---\n",
      "|   |   |   |\n",
      " --- --- ---\n",
      "|   |   |   |\n",
      " --- --- ---\n",
      "|   |   |   |\n",
      " --- --- ---\n",
      " --- --- --- --- --- --- --- --- --- ---\n",
      "|   |   |   |   |   |   |   |   |   |   |\n",
      " --- --- --- --- --- --- --- --- --- ---\n",
      "|   |   |   |   |   |   |   |   |   |   |\n",
      " --- --- --- --- --- --- --- --- --- ---\n",
      "|   |   |   |   |   |   |   |   |   |   |\n",
      " --- --- --- --- --- --- --- --- --- ---\n"
     ]
    }
   ],
   "source": [
    "draw_game_board(3,3)\n",
    "draw_game_board(10,3)\n",
    "draw_game_board(3,10)"
   ]
  },
  {
   "cell_type": "markdown",
   "metadata": {},
   "source": [
    "*Exercise 3:* Modify exercise 2, so that it takes a matrix of the form from exercise 1 and draws a tic-tac-tie board with \"X\"s and \"O\"s.  "
   ]
  },
  {
   "cell_type": "code",
   "execution_count": 17,
   "metadata": {},
   "outputs": [],
   "source": [
    "def draw_game_board(board):\n",
    "    n = len(board)\n",
    "    m = len(board[0])\n",
    "    col_indicator = '---'\n",
    "    row_indicator = '|'\n",
    "    value_symbol_dict = {0: ' ',\n",
    "                        1: 'X',\n",
    "                        2: 'O'}\n",
    "    rows = [col_indicator] * (m)\n",
    "    for i in range(n+1):\n",
    "        print('',end=' ')\n",
    "        print(' '.join(rows))\n",
    "        cols = list()\n",
    "        if i == n: break \n",
    "        for j in range(m):\n",
    "            draw = value_symbol_dict[board[i][j]]\n",
    "            cols.append(row_indicator)\n",
    "            cols.append(draw)\n",
    "        cols.append(row_indicator)    \n",
    "        print(' '.join(cols))                 "
   ]
  },
  {
   "cell_type": "code",
   "execution_count": 18,
   "metadata": {},
   "outputs": [
    {
     "name": "stdout",
     "output_type": "stream",
     "text": [
      " --- --- ---\n",
      "|   |   |   |\n",
      " --- --- ---\n",
      "|   | O |   |\n",
      " --- --- ---\n",
      "|   |   |   |\n",
      " --- --- ---\n",
      " --- --- ---\n",
      "|   |   |   |\n",
      " --- --- ---\n",
      "| X | O |   |\n",
      " --- --- ---\n",
      "|   |   |   |\n",
      " --- --- ---\n",
      " --- --- ---\n",
      "|   |   |   |\n",
      " --- --- ---\n",
      "| X | O |   |\n",
      " --- --- ---\n",
      "|   |   | X |\n",
      " --- --- ---\n"
     ]
    }
   ],
   "source": [
    "board[1][1] = 2\n",
    "draw_game_board(board)\n",
    "board[1][0] = 1\n",
    "draw_game_board(board)\n",
    "board[2][2] = 1\n",
    "draw_game_board(board)"
   ]
  },
  {
   "cell_type": "markdown",
   "metadata": {},
   "source": [
    "*Exercise 4:* Write a function that takes a `n` by `n` matrix representing a tic-tac-toe game, and returns -1, 0, 1, or 2 indicating the game is incomplete, the game is a draw, player 1 has won, or player 2 has one, respectively. Here are some example inputs you can use to test your code:"
   ]
  },
  {
   "cell_type": "code",
   "execution_count": 19,
   "metadata": {},
   "outputs": [],
   "source": [
    "import numpy as np\n",
    "\n",
    "def get_diags(M):\n",
    "    n = len(M)\n",
    "    m = len(M[0])\n",
    "    diags = list()\n",
    "\n",
    "    if(n != m):\n",
    "        print(\"Not a valid board\")\n",
    "        return\n",
    "\n",
    "    #Left to Right Diagonal\n",
    "    lr_diag = list()\n",
    "    for i in range(n):\n",
    "        lr_diag.append(M[i][i])\n",
    "    #Right to left Diagonal\n",
    "    rl_diag = list()\n",
    "    for i in range(n):\n",
    "        rl_diag.append(M[i][2-i])\n",
    "\n",
    "    diags.append(lr_diag)\n",
    "    diags.append(rl_diag)\n",
    "\n",
    "    return diags\n",
    "    \n",
    "def get_rows(M):\n",
    "    return(M)    \n",
    "    \n",
    "def get_cols(M):\n",
    "    M_transpose = list(np.transpose(M))\n",
    "    cols = get_rows(M_transpose)\n",
    "    for i in range(len(cols)):\n",
    "        cols[i] = list(cols[i])\n",
    "    return cols\n",
    "\n",
    "def check_draw(possible_wins,n):\n",
    "    player1_win_state = [1]*n\n",
    "    player2_win_state = [2]*n\n",
    "    for type in possible_wins:\n",
    "        for item in type:\n",
    "            for element in item:\n",
    "                if element == 0:\n",
    "                    return False\n",
    "    return True\n",
    "\n",
    "def check_win(possible_wins,n):\n",
    "    player1_win_state = [1]*n\n",
    "    player2_win_state = [2]*n\n",
    "    for type in possible_wins:\n",
    "        for item in type:\n",
    "            if item == player1_win_state:\n",
    "                return 1\n",
    "            elif (item == player2_win_state):\n",
    "                return 2\n",
    "    return 0\n",
    "    \n",
    "def check_game_state(M):\n",
    "    n = len(M)\n",
    "    m = len(M[0])\n",
    "\n",
    "    game_state = -1\n",
    "    \n",
    "    possible_wins = [get_rows(M),get_cols(M),get_diags(M)]\n",
    "    \n",
    "    if (check_win(possible_wins,n)):    \n",
    "        game_state = check_win(possible_wins,n)\n",
    "    elif (check_draw(possible_wins,n)):\n",
    "        game_state = 0\n",
    "\n",
    "    print(game_state)\n",
    "    return game_state\n",
    "    "
   ]
  },
  {
   "cell_type": "code",
   "execution_count": 20,
   "metadata": {},
   "outputs": [],
   "source": [
    "winner_is_2 = [[2, 2, 0],\n",
    "\t[2, 1, 0],\n",
    "\t[2, 1, 1]]\n",
    "\n",
    "winner_is_1 = [[1, 2, 0],\n",
    "\t[2, 1, 0],\n",
    "\t[2, 1, 1]]\n",
    "\n",
    "winner_is_also_1 = [[0, 1, 0],\n",
    "\t[2, 1, 0],\n",
    "\t[2, 1, 1]]\n",
    "\n",
    "no_winner = [[1, 2, 0],\n",
    "\t[2, 1, 0],\n",
    "\t[2, 1, 2]]\n",
    "\n",
    "also_no_winner = [[1, 2, 0],\n",
    "\t[2, 1, 0],\n",
    "\t[2, 1, 0]]"
   ]
  },
  {
   "cell_type": "code",
   "execution_count": 21,
   "metadata": {},
   "outputs": [
    {
     "name": "stdout",
     "output_type": "stream",
     "text": [
      "-1\n",
      "2\n",
      "1\n",
      "1\n",
      "-1\n",
      "-1\n"
     ]
    },
    {
     "data": {
      "text/plain": [
       "-1"
      ]
     },
     "execution_count": 21,
     "metadata": {},
     "output_type": "execute_result"
    }
   ],
   "source": [
    "check_game_state(board)\n",
    "check_game_state(winner_is_2)\n",
    "check_game_state(winner_is_1)\n",
    "check_game_state(winner_is_also_1)\n",
    "check_game_state(no_winner)\n",
    "check_game_state(also_no_winner)"
   ]
  },
  {
   "cell_type": "markdown",
   "metadata": {},
   "source": [
    "*Exercise 5:* Write a function that takes a game board, player number, and `(x,y)` coordinates and places \"X\" or \"O\" in the correct location of the game board. Make sure that you only allow filling previously empty locations. Return `True` or `False` to indicate successful placement of \"X\" or \"O\"."
   ]
  },
  {
   "cell_type": "code",
   "execution_count": 22,
   "metadata": {},
   "outputs": [],
   "source": [
    "def place_piece(board,player_number,coordinates):\n",
    "    x = coordinates[0]\n",
    "    y = coordinates[-1]\n",
    "    if x >= 0 and x < len(board):\n",
    "        if y >= 0 and y < len(board[0]):\n",
    "            if board[x][y] == 0:\n",
    "                board[x][y] = player_number\n",
    "                return True\n",
    "            else:\n",
    "                print(\"That space is already filled\")\n",
    "                return False\n",
    "            return True\n",
    "    print(\"Not a valid move\")        \n",
    "    return False"
   ]
  },
  {
   "cell_type": "code",
   "execution_count": 23,
   "metadata": {},
   "outputs": [
    {
     "name": "stdout",
     "output_type": "stream",
     "text": [
      "That space is already filled\n",
      " --- --- ---\n",
      "|   |   |   |\n",
      " --- --- ---\n",
      "| X | O |   |\n",
      " --- --- ---\n",
      "|   |   | X |\n",
      " --- --- ---\n",
      " --- --- ---\n",
      "|   |   |   |\n",
      " --- --- ---\n",
      "| X | O |   |\n",
      " --- --- ---\n",
      "|   | O | X |\n",
      " --- --- ---\n"
     ]
    }
   ],
   "source": [
    "place_piece(board,1,(1,1))\n",
    "draw_game_board(board)\n",
    "place_piece(board,2,(2,1))\n",
    "draw_game_board(board)"
   ]
  },
  {
   "cell_type": "markdown",
   "metadata": {},
   "source": [
    "*Exercise 6:* Modify Exercise 4 to show column and row labels so that players can specify location using \"A2\" or \"C1\"."
   ]
  },
  {
   "cell_type": "code",
   "execution_count": 24,
   "metadata": {},
   "outputs": [],
   "source": [
    "def draw_game_board2(board):\n",
    "    n = len(board)\n",
    "    m = len(board[0])\n",
    "    col_indicator = '---'\n",
    "    row_indicator = '|'\n",
    "    value_symbol_dict = {0: ' ',\n",
    "                        1: 'X',\n",
    "                        2: 'O'}\n",
    "    alpha_labels= range(65,65+n)\n",
    "    alpha_labels=[chr(i) for i in range(65,65+n)]\n",
    "    labels=[str(i) for i in range(1,n+1)]\n",
    "    rows = [col_indicator] * (m)\n",
    "    print('',end='    ')\n",
    "    print('   '.join(labels))\n",
    "    for i in range(n+1):\n",
    "        print('',end='   ')\n",
    "        print(' '.join(rows))\n",
    "        cols = list()\n",
    "        if i == n: break\n",
    "        print(alpha_labels[i],end = ' ')    \n",
    "        for j in range(m):\n",
    "            draw = value_symbol_dict[board[i][j]]\n",
    "            cols.append(row_indicator)\n",
    "            cols.append(draw)\n",
    "        cols.append(row_indicator)    \n",
    "        print(' '.join(cols))                 "
   ]
  },
  {
   "cell_type": "code",
   "execution_count": 25,
   "metadata": {},
   "outputs": [
    {
     "name": "stdout",
     "output_type": "stream",
     "text": [
      "    1   2   3\n",
      "   --- --- ---\n",
      "A |   |   |   |\n",
      "   --- --- ---\n",
      "B | X | O |   |\n",
      "   --- --- ---\n",
      "C |   | O | X |\n",
      "   --- --- ---\n"
     ]
    }
   ],
   "source": [
    "draw_game_board2(board)"
   ]
  },
  {
   "cell_type": "markdown",
   "metadata": {},
   "source": [
    "*Exercise 7:* Write a function that takes a board, player number, and location specified as in exercise 6 and then calls exercise 5 to correctly modify the board.  "
   ]
  },
  {
   "cell_type": "code",
   "execution_count": 26,
   "metadata": {},
   "outputs": [],
   "source": [
    "def place_piece2(board,player_number,location):\n",
    "    if ord(location[0]) >= 65:\n",
    "        x = ord(location[0]) - 65\n",
    "    if ord(location[0]) >= 97:\n",
    "        x = ord(location[0]) - 97\n",
    "    y = int(location[1])-1    \n",
    "    move = place_piece(board,player_number,(x,y))\n",
    "    if (move):\n",
    "        return move"
   ]
  },
  {
   "cell_type": "code",
   "execution_count": 27,
   "metadata": {},
   "outputs": [
    {
     "name": "stdout",
     "output_type": "stream",
     "text": [
      "Not a valid move\n",
      " --- --- ---\n",
      "|   |   |   |\n",
      " --- --- ---\n",
      "| X | O |   |\n",
      " --- --- ---\n",
      "|   | O | X |\n",
      " --- --- ---\n"
     ]
    }
   ],
   "source": [
    "place_piece2(board,2,'D3')\n",
    "draw_game_board(board)"
   ]
  },
  {
   "cell_type": "markdown",
   "metadata": {},
   "source": [
    "*Exercise 8:* Write a function is called with a board and player number, takes input from the player using python's `input`, and modifies the board using your function from exercise 7. Note that you should keep asking for input until you have gotten a valid input that results in a valid move."
   ]
  },
  {
   "cell_type": "code",
   "execution_count": 28,
   "metadata": {},
   "outputs": [],
   "source": [
    "def players_turn(board,player_number):\n",
    "    valid_move = False\n",
    "    while(not valid_move):\n",
    "        move = input(\"Make your move\")\n",
    "        valid_move = place_piece2(board,player_number,move)\n",
    "    print(\"A move has been made\")"
   ]
  },
  {
   "cell_type": "code",
   "execution_count": 29,
   "metadata": {},
   "outputs": [
    {
     "name": "stdin",
     "output_type": "stream",
     "text": [
      "Make your move A1\n"
     ]
    },
    {
     "name": "stdout",
     "output_type": "stream",
     "text": [
      "A move has been made\n"
     ]
    }
   ],
   "source": [
    "players_turn(board,1)"
   ]
  },
  {
   "cell_type": "markdown",
   "metadata": {},
   "source": [
    "*Exercise 9:* Use all of the previous exercises to implement a full tic-tac-toe game, where an appropriate board is drawn, 2 players are repeatedly asked for a location coordinates of where they wish to place a mark, and the game status is checked until a player wins or a draw occurs."
   ]
  },
  {
   "cell_type": "code",
   "execution_count": 30,
   "metadata": {},
   "outputs": [],
   "source": [
    "def new_game(size):\n",
    "    # Make a game board\n",
    "    board = make_new_board(size)\n",
    "    \n",
    "    # Start with player 1\n",
    "    player=1\n",
    "    \n",
    "    game_won = -1\n",
    "    while game_won < 0:\n",
    "        # Draw the board\n",
    "        draw_game_board2(board)\n",
    "        \n",
    "        # Make a move\n",
    "        print(\"Player\",player,\"move:\")\n",
    "        players_turn(board,player)\n",
    "\n",
    "        # Check if the game has been won\n",
    "        game_won=check_game_state(board)\n",
    "\n",
    "        # Switch players\n",
    "        if player==1:\n",
    "            player=2\n",
    "        else:\n",
    "            player=1\n",
    "            \n",
    "    if (game_won == 0):\n",
    "        print(\"The game has ended in a draw\")\n",
    "    else:\n",
    "        print(\"Winner is player:\",game_won)"
   ]
  },
  {
   "cell_type": "code",
   "execution_count": 31,
   "metadata": {},
   "outputs": [
    {
     "name": "stdout",
     "output_type": "stream",
     "text": [
      "    1   2   3\n",
      "   --- --- ---\n",
      "A |   |   |   |\n",
      "   --- --- ---\n",
      "B |   |   |   |\n",
      "   --- --- ---\n",
      "C |   |   |   |\n",
      "   --- --- ---\n",
      "Player 1 move:\n"
     ]
    },
    {
     "name": "stdin",
     "output_type": "stream",
     "text": [
      "Make your move A1\n"
     ]
    },
    {
     "name": "stdout",
     "output_type": "stream",
     "text": [
      "A move has been made\n",
      "-1\n",
      "    1   2   3\n",
      "   --- --- ---\n",
      "A | X |   |   |\n",
      "   --- --- ---\n",
      "B |   |   |   |\n",
      "   --- --- ---\n",
      "C |   |   |   |\n",
      "   --- --- ---\n",
      "Player 2 move:\n"
     ]
    },
    {
     "name": "stdin",
     "output_type": "stream",
     "text": [
      "Make your move A2\n"
     ]
    },
    {
     "name": "stdout",
     "output_type": "stream",
     "text": [
      "A move has been made\n",
      "-1\n",
      "    1   2   3\n",
      "   --- --- ---\n",
      "A | X | O |   |\n",
      "   --- --- ---\n",
      "B |   |   |   |\n",
      "   --- --- ---\n",
      "C |   |   |   |\n",
      "   --- --- ---\n",
      "Player 1 move:\n"
     ]
    },
    {
     "name": "stdin",
     "output_type": "stream",
     "text": [
      "Make your move B2\n"
     ]
    },
    {
     "name": "stdout",
     "output_type": "stream",
     "text": [
      "A move has been made\n",
      "-1\n",
      "    1   2   3\n",
      "   --- --- ---\n",
      "A | X | O |   |\n",
      "   --- --- ---\n",
      "B |   | X |   |\n",
      "   --- --- ---\n",
      "C |   |   |   |\n",
      "   --- --- ---\n",
      "Player 2 move:\n"
     ]
    },
    {
     "name": "stdin",
     "output_type": "stream",
     "text": [
      "Make your move C3\n"
     ]
    },
    {
     "name": "stdout",
     "output_type": "stream",
     "text": [
      "A move has been made\n",
      "-1\n",
      "    1   2   3\n",
      "   --- --- ---\n",
      "A | X | O |   |\n",
      "   --- --- ---\n",
      "B |   | X |   |\n",
      "   --- --- ---\n",
      "C |   |   | O |\n",
      "   --- --- ---\n",
      "Player 1 move:\n"
     ]
    },
    {
     "name": "stdin",
     "output_type": "stream",
     "text": [
      "Make your move C1\n"
     ]
    },
    {
     "name": "stdout",
     "output_type": "stream",
     "text": [
      "A move has been made\n",
      "-1\n",
      "    1   2   3\n",
      "   --- --- ---\n",
      "A | X | O |   |\n",
      "   --- --- ---\n",
      "B |   | X |   |\n",
      "   --- --- ---\n",
      "C | X |   | O |\n",
      "   --- --- ---\n",
      "Player 2 move:\n"
     ]
    },
    {
     "name": "stdin",
     "output_type": "stream",
     "text": [
      "Make your move A3\n"
     ]
    },
    {
     "name": "stdout",
     "output_type": "stream",
     "text": [
      "A move has been made\n",
      "-1\n",
      "    1   2   3\n",
      "   --- --- ---\n",
      "A | X | O | O |\n",
      "   --- --- ---\n",
      "B |   | X |   |\n",
      "   --- --- ---\n",
      "C | X |   | O |\n",
      "   --- --- ---\n",
      "Player 1 move:\n"
     ]
    },
    {
     "name": "stdin",
     "output_type": "stream",
     "text": [
      "Make your move B1\n"
     ]
    },
    {
     "name": "stdout",
     "output_type": "stream",
     "text": [
      "A move has been made\n",
      "1\n",
      "Winner is player: 1\n"
     ]
    }
   ],
   "source": [
    "new_game(3)"
   ]
  },
  {
   "cell_type": "markdown",
   "metadata": {},
   "source": [
    "*Exercise 10:* Test that your game works for 5x5 Tic Tac Toe.  "
   ]
  },
  {
   "cell_type": "code",
   "execution_count": 32,
   "metadata": {},
   "outputs": [
    {
     "name": "stdout",
     "output_type": "stream",
     "text": [
      "    1   2   3   4   5\n",
      "   --- --- --- --- ---\n",
      "A |   |   |   |   |   |\n",
      "   --- --- --- --- ---\n",
      "B |   |   |   |   |   |\n",
      "   --- --- --- --- ---\n",
      "C |   |   |   |   |   |\n",
      "   --- --- --- --- ---\n",
      "D |   |   |   |   |   |\n",
      "   --- --- --- --- ---\n",
      "E |   |   |   |   |   |\n",
      "   --- --- --- --- ---\n",
      "Player 1 move:\n"
     ]
    },
    {
     "name": "stdin",
     "output_type": "stream",
     "text": [
      "Make your move A1\n"
     ]
    },
    {
     "name": "stdout",
     "output_type": "stream",
     "text": [
      "A move has been made\n",
      "-1\n",
      "    1   2   3   4   5\n",
      "   --- --- --- --- ---\n",
      "A | X |   |   |   |   |\n",
      "   --- --- --- --- ---\n",
      "B |   |   |   |   |   |\n",
      "   --- --- --- --- ---\n",
      "C |   |   |   |   |   |\n",
      "   --- --- --- --- ---\n",
      "D |   |   |   |   |   |\n",
      "   --- --- --- --- ---\n",
      "E |   |   |   |   |   |\n",
      "   --- --- --- --- ---\n",
      "Player 2 move:\n"
     ]
    },
    {
     "name": "stdin",
     "output_type": "stream",
     "text": [
      "Make your move A2\n"
     ]
    },
    {
     "name": "stdout",
     "output_type": "stream",
     "text": [
      "A move has been made\n",
      "-1\n",
      "    1   2   3   4   5\n",
      "   --- --- --- --- ---\n",
      "A | X | O |   |   |   |\n",
      "   --- --- --- --- ---\n",
      "B |   |   |   |   |   |\n",
      "   --- --- --- --- ---\n",
      "C |   |   |   |   |   |\n",
      "   --- --- --- --- ---\n",
      "D |   |   |   |   |   |\n",
      "   --- --- --- --- ---\n",
      "E |   |   |   |   |   |\n",
      "   --- --- --- --- ---\n",
      "Player 1 move:\n"
     ]
    },
    {
     "name": "stdin",
     "output_type": "stream",
     "text": [
      "Make your move B2\n"
     ]
    },
    {
     "name": "stdout",
     "output_type": "stream",
     "text": [
      "A move has been made\n",
      "-1\n",
      "    1   2   3   4   5\n",
      "   --- --- --- --- ---\n",
      "A | X | O |   |   |   |\n",
      "   --- --- --- --- ---\n",
      "B |   | X |   |   |   |\n",
      "   --- --- --- --- ---\n",
      "C |   |   |   |   |   |\n",
      "   --- --- --- --- ---\n",
      "D |   |   |   |   |   |\n",
      "   --- --- --- --- ---\n",
      "E |   |   |   |   |   |\n",
      "   --- --- --- --- ---\n",
      "Player 2 move:\n"
     ]
    },
    {
     "name": "stdin",
     "output_type": "stream",
     "text": [
      "Make your move B3\n"
     ]
    },
    {
     "name": "stdout",
     "output_type": "stream",
     "text": [
      "A move has been made\n",
      "-1\n",
      "    1   2   3   4   5\n",
      "   --- --- --- --- ---\n",
      "A | X | O |   |   |   |\n",
      "   --- --- --- --- ---\n",
      "B |   | X | O |   |   |\n",
      "   --- --- --- --- ---\n",
      "C |   |   |   |   |   |\n",
      "   --- --- --- --- ---\n",
      "D |   |   |   |   |   |\n",
      "   --- --- --- --- ---\n",
      "E |   |   |   |   |   |\n",
      "   --- --- --- --- ---\n",
      "Player 1 move:\n"
     ]
    },
    {
     "name": "stdin",
     "output_type": "stream",
     "text": [
      "Make your move C3\n"
     ]
    },
    {
     "name": "stdout",
     "output_type": "stream",
     "text": [
      "A move has been made\n",
      "-1\n",
      "    1   2   3   4   5\n",
      "   --- --- --- --- ---\n",
      "A | X | O |   |   |   |\n",
      "   --- --- --- --- ---\n",
      "B |   | X | O |   |   |\n",
      "   --- --- --- --- ---\n",
      "C |   |   | X |   |   |\n",
      "   --- --- --- --- ---\n",
      "D |   |   |   |   |   |\n",
      "   --- --- --- --- ---\n",
      "E |   |   |   |   |   |\n",
      "   --- --- --- --- ---\n",
      "Player 2 move:\n"
     ]
    },
    {
     "name": "stdin",
     "output_type": "stream",
     "text": [
      "Make your move C4\n"
     ]
    },
    {
     "name": "stdout",
     "output_type": "stream",
     "text": [
      "A move has been made\n",
      "-1\n",
      "    1   2   3   4   5\n",
      "   --- --- --- --- ---\n",
      "A | X | O |   |   |   |\n",
      "   --- --- --- --- ---\n",
      "B |   | X | O |   |   |\n",
      "   --- --- --- --- ---\n",
      "C |   |   | X | O |   |\n",
      "   --- --- --- --- ---\n",
      "D |   |   |   |   |   |\n",
      "   --- --- --- --- ---\n",
      "E |   |   |   |   |   |\n",
      "   --- --- --- --- ---\n",
      "Player 1 move:\n"
     ]
    },
    {
     "name": "stdin",
     "output_type": "stream",
     "text": [
      "Make your move D4\n"
     ]
    },
    {
     "name": "stdout",
     "output_type": "stream",
     "text": [
      "A move has been made\n",
      "-1\n",
      "    1   2   3   4   5\n",
      "   --- --- --- --- ---\n",
      "A | X | O |   |   |   |\n",
      "   --- --- --- --- ---\n",
      "B |   | X | O |   |   |\n",
      "   --- --- --- --- ---\n",
      "C |   |   | X | O |   |\n",
      "   --- --- --- --- ---\n",
      "D |   |   |   | X |   |\n",
      "   --- --- --- --- ---\n",
      "E |   |   |   |   |   |\n",
      "   --- --- --- --- ---\n",
      "Player 2 move:\n"
     ]
    },
    {
     "name": "stdin",
     "output_type": "stream",
     "text": [
      "Make your move D5\n"
     ]
    },
    {
     "name": "stdout",
     "output_type": "stream",
     "text": [
      "A move has been made\n",
      "-1\n",
      "    1   2   3   4   5\n",
      "   --- --- --- --- ---\n",
      "A | X | O |   |   |   |\n",
      "   --- --- --- --- ---\n",
      "B |   | X | O |   |   |\n",
      "   --- --- --- --- ---\n",
      "C |   |   | X | O |   |\n",
      "   --- --- --- --- ---\n",
      "D |   |   |   | X | O |\n",
      "   --- --- --- --- ---\n",
      "E |   |   |   |   |   |\n",
      "   --- --- --- --- ---\n",
      "Player 1 move:\n"
     ]
    },
    {
     "name": "stdin",
     "output_type": "stream",
     "text": [
      "Make your move E5\n"
     ]
    },
    {
     "name": "stdout",
     "output_type": "stream",
     "text": [
      "A move has been made\n",
      "1\n",
      "Winner is player: 1\n"
     ]
    }
   ],
   "source": [
    "new_game(5)"
   ]
  },
  {
   "cell_type": "markdown",
   "metadata": {},
   "source": [
    "*Exercise 11:* (Advanced / Challenge) Develop a version of the game where one player is the computer. Note that you don't need to do an extensive seach for the best move. You can have the computer simply protect against loosing and otherwise try to win with straight or diagonal patterns."
   ]
  },
  {
   "cell_type": "code",
   "execution_count": 33,
   "metadata": {},
   "outputs": [],
   "source": [
    "# Write you solution here"
   ]
  },
  {
   "cell_type": "code",
   "execution_count": 34,
   "metadata": {},
   "outputs": [],
   "source": [
    "# Test your solution here"
   ]
  }
 ],
 "metadata": {
  "kernelspec": {
   "display_name": "Python 3 (ipykernel)",
   "language": "python",
   "name": "python3"
  },
  "language_info": {
   "codemirror_mode": {
    "name": "ipython",
    "version": 3
   },
   "file_extension": ".py",
   "mimetype": "text/x-python",
   "name": "python",
   "nbconvert_exporter": "python",
   "pygments_lexer": "ipython3",
   "version": "3.10.12"
  }
 },
 "nbformat": 4,
 "nbformat_minor": 4
}
