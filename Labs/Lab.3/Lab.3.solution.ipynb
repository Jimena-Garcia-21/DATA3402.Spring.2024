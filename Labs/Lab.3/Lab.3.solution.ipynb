{
 "cells": [
  {
   "cell_type": "markdown",
   "metadata": {},
   "source": [
    "# Lab 3\n",
    "\n",
    "In this lab we will become familiar with distributions, histograms, and functional programming. Do not use numpy or any other library for this lab.\n",
    "\n",
    "Before that, lets get setup homework submission and submit your previous lab.  \n",
    "\n",
    "## Working on the Command-line.\n",
    "\n",
    "It is important for you to learn to work on the command line and to be familiar with the Unix environment (e.g. Linux, Mac OS, or Windows Linux Subsystem). We'll go over working on the command-line in detail later in the course.\n",
    "\n",
    "You are required to submit your work in this course via GitHub. Today in class, you will setup everything on the command-line.\n",
    "\n",
    "### Command-line basics\n",
    "\n",
    "There is plenty of material online that will help you figure out how to do various tasks on the command line. Commands you may need to know today:\n",
    "\n",
    "* `ls`: lists the contents of the current directory.\n",
    "* `pwd`: prints the path of the current directory.\n",
    "* `cd <directory>`: changes your current directory to the specified directory.\n",
    "* `cd ..`: changes current directory to the previous directory. Basically steps out of the current directory to the directory containing the current directory.\n",
    "* `mkdir <directory>`: create a new directory with the specified name.\n",
    "* `rmdir <directory>`: removes the specified directory. Note it has to be empty.\n",
    "* `rm <filename>`: deletes the specified file.\n",
    "* `mv <filename 1> <filename 1>`: Moves or renames a file.\n",
    "* `cp <filename 1> <filename 2>`: copies an file. If you just provide a path to a directory, it copies the file into that directory with the same filename. If you specifiy a new filename, the copy has a new name. For example `cp File.1.txt File.2.txt` creates a copy of `File.1.txt` with the name `File.2.txt`. Meanwhile `cp File.1.txt my_directory`, where `my_directory` is a directory, creates a copy of `File.1.txt` in directory `my_directory` with the name `File.1.txt`.\n",
    "\n",
    "For reference, here are some example resources I found by googling:\n",
    "\n",
    "* Paths and Wildcards: https://www.warp.dev/terminus/linux-wildcards\n",
    "* Basic commands like copy: https://kb.iu.edu/d/afsk\n",
    "* General introduction to shell: https://github-pages.ucl.ac.uk/RCPSTrainingMaterials/HPCandHTCusingLegion/2_intro_to_shell.html\n",
    "* Manual pages: https://www.geeksforgeeks.org/linux-man-page-entries-different-types/?ref=ml_lbp\n",
    "* Chaining commands: https://www.geeksforgeeks.org/chaining-commands-in-linux/?ref=ml_lbp\n",
    "* Piping: https://www.geeksforgeeks.org/piping-in-unix-or-linux/\n",
    "* Using sed: https://www.geeksforgeeks.org/sed-command-linux-set-2/?ref=ml_lbp\n",
    "* Various Unix commands: https://www.geeksforgeeks.org/linux-commands/?ref=lbp\n",
    "* Cheat sheets:\n",
    "    * https://www.stationx.net/unix-commands-cheat-sheet/\n",
    "    * https://cheatography.com/davechild/cheat-sheets/linux-command-line/\n",
    "    * https://www.theknowledgeacademy.com/blog/unix-commands-cheat-sheet/\n",
    "    \n",
    "These aren't necessarily the best resources. Feel free to search for better ones. Also, don't forget that Unix has built-in manual pages for all of its commands. Just type `man <command>` at the command prompt. Use the space-bar to scroll through the documentation and \"q\" to exit.\n",
    "\n",
    "\n",
    "### Setup and Submission\n",
    "\n",
    "Our course repository is public. The instructions here aim to have you setup a fork of the course repository. Unfortunately because you are forking a public repo, your fork will have to be public also. \n",
    "\n",
    "You should be familiar with git from the first semester of this course. I assume that you all have github accounts and have setup things to be able to [push to github using ssh](https://docs.github.com/en/github/authenticating-to-github/connecting-to-github-with-ssh). The instuctions here lead you to:\n",
    "\n",
    "We'll overview what you will do before going through step by step instructions.\n",
    "\n",
    "1. Setup:\n",
    "    1. Fork the class repository. Some directions in [fork-a-repo](https://docs.github.com/en/github/getting-started-with-github/fork-a-repo).\n",
    "    1. Create a directory on your personal system where you will keep all course materials.\n",
    "    1. In that directory, clone your fork of the repository.\n",
    "    1. Using `git remote`, set the upstream to be the class repo, so you can pull from the class and push to your fork.\n",
    "\n",
    "1. Submission:\n",
    "    1. Copy your solutions into the appropriate directory (e.g. into `Labs/Lab.2/`) and with appropriate filename `Lab.2.solution.ipynb'.\n",
    "    1. Commit / push your solutions.\n",
    "    1. Grant access to course instructors.\n",
    "\n",
    "Below are step by step instructions with examples (including example directory naming convention). Feel free to modify things as you see fit. \n",
    "\n",
    "#### Setup\n",
    "You should only need to follow this instructions once. Here are some useful git commands:\n",
    "\n",
    "* Git help: `git help`\n",
    "* Git remote help: `git help remote`\n",
    "* Check remote status: `git remote -v`\n",
    "* Add a remote: `git remote add <stream name> <repo URL>`\n",
    "* Add a remove: `git remote remove <stream name>`\n",
    "\n",
    "Steps:\n",
    "1. In a browser, log into GitHub and navigate to the [course repository](https://github.com/UTA-DataScience/DATA3402.Spring.2024).\n",
    "1. On the top right of the page, press the fork button to create a new fork into your own GitHub account.\n",
    "1. After successful fork, you should find the browser showing your fork of the course repository. Use the green \"Code\" button to copy path to the repo into your the clipboard of your computer.\n",
    "1. Open a shell on your personal computer.\n",
    "1. If you have not done so already, create a new directory/folder where you will keep all course material to navigate to it. For example: `mkdir Data-3402` and `cd Data-3402`.\n",
    "1. Clone your fork of the repository using `git clone` followed by the path you copied into your clipboard. (copy/paste)\n",
    "1. Paste the URL to your fork in the worksheet for the TAs and instructors.\n",
    "1. Now go into the directory of your clone (`cd DATA3402.Spring.2024`).\n",
    "1. Type `git remote -v` to see the current setup for fetch and pull.\n",
    "1. Note the URL you see. This should be the same as what you used for your clone for both push and fetch.\n",
    "1. Delete the origin remote using `git remote remove origin`.\n",
    "1. Add the course repo as your remote using `git remote add origin https://github.com/UTA-DataScience/DATA3402.Spring.2024.git`.\n",
    "1. Change the push to point to your fork. This means you will need the URL to your clone we copied earlier and confirmed as the original origin. The command will look something like: `git remote set-url --push origin  https://github.com/XXXXXX/DATA3402.Spring.2024.git`, where XXXXX is your username on GitHub.\n",
    "1. Note that if you setup everything correctly, you now should be able to do `git pull` to get updates from the course repo, and do `git push` to push your commits into your own fork.\n",
    "\n",
    "### Submission\n",
    "These instructions outline how you submit files. Some useful commands:\n",
    "* To add a file to local repository: `git add <file>`.\n",
    "* To commit all changed files into local repository: `git -a -m \"A message\"`. You need to provide some comment when you commit. \n",
    "* To push the commited files from the local repository to GitHub: `git push`.\n",
    "* To get updates from GitHub: `git pull`.\n",
    "\n",
    "Steps:\n",
    "1. To submit your labs, navigate to your clone of your fork of the course repository. \n",
    "1. Use `git pull` to make sure you have the latest updates. \n",
    "1. Make sure your copy of the lab your are working on is in the appropriate place in this clone. That means if you have the file elsewhere, copy it to the same directory in your clone of your fork. \n",
    "1. Note that in order to avoid future conflicts, you should always name your solution differently than the original file in the class repo. For example if your file is still named `Lab.2.ipynb` you should rename it using the `mv` command: `mv Lab.2.ipynb Lab.2.solution.ipynb`. \n",
    "1. Add and files you wish to submit into the repo. For example: `git add Labs/Lab.2/Lab.2.solution.ipynb`\n",
    "1. Commit any changes: `git commit -a -m \"Lab 2 updates\"`\n",
    "1. Push your changes: `git push`\n",
    "1. Check on github website that your solutions have been properly submitted.\n",
    "\n",
    "Before you leave the session today, submit your Lab.2 solution as is now to make sure you can do it. If you need to work further on your lab, navigate jupyter to the copy of the lab you just submitted and work there. Once done, repeat the commit and push commands to submit your updated solution. Note that lab 2 is due by midnight today (Friday 2/9/2024).\n"
   ]
  },
  {
   "cell_type": "markdown",
   "metadata": {},
   "source": [
    "### Uniform Distribution\n",
    "Lets start with generating some fake random data. You can get a random number between 0 and 1 using the python random module as follow:"
   ]
  },
  {
   "cell_type": "code",
   "execution_count": 148,
   "metadata": {},
   "outputs": [
    {
     "name": "stdout",
     "output_type": "stream",
     "text": [
      "The Value of x is 0.5126816671818705\n"
     ]
    }
   ],
   "source": [
    "import random\n",
    "x=random.random()\n",
    "print(\"The Value of x is\", x)"
   ]
  },
  {
   "cell_type": "markdown",
   "metadata": {},
   "source": [
    "Everytime you call random, you will get a new number.\n",
    "\n",
    "*Exercise 1:* Using random, write a function `generate_uniform(N, mymin, mymax)`, that returns a python list containing N random numbers between specified minimum and maximum value. Note that you may want to quickly work out on paper how to turn numbers between 0 and 1 to between other values. "
   ]
  },
  {
   "cell_type": "code",
   "execution_count": 149,
   "metadata": {},
   "outputs": [],
   "source": [
    "# Skeleton\n",
    "def generate_uniform(N,x_min,x_max):\n",
    "    out = []\n",
    "    ### BEGIN SOLUTION\n",
    "    for i in range(N):\n",
    "        x = random.random()       \n",
    "        num = x * (x_max-x_min)+x_min\n",
    "        out.append(num)\n",
    "    ### END SOLUTION\n",
    "    return out"
   ]
  },
  {
   "cell_type": "code",
   "execution_count": 150,
   "metadata": {},
   "outputs": [
    {
     "name": "stdout",
     "output_type": "stream",
     "text": [
      "Data Type: <class 'list'>\n",
      "Data Length: 1000\n",
      "Type of Data Contents: <class 'float'>\n",
      "Data Minimum: -9.968721305229185\n",
      "Data Maximum: 9.990547131755235\n"
     ]
    }
   ],
   "source": [
    "# Test your solution here\n",
    "data=generate_uniform(1000,-10,10)\n",
    "print (\"Data Type:\", type(data))\n",
    "print (\"Data Length:\", len(data))\n",
    "if len(data)>0: \n",
    "    print (\"Type of Data Contents:\", type(data[0]))\n",
    "    print (\"Data Minimum:\", min(data))\n",
    "    print (\"Data Maximum:\", max(data))"
   ]
  },
  {
   "cell_type": "markdown",
   "metadata": {},
   "source": [
    "*Exercise 2a:* \n",
    "Write a function that computes the mean of values in a list. Recall the equation for the mean of a random variable $\\bf{x}$ computed on a data set of $n$ values $\\{ x_i \\} = \\{x_1, x_2, ..., x_n\\}$  is ${\\bf\\bar{x}} = \\frac{1}{n} \\sum_i^n x_i$."
   ]
  },
  {
   "cell_type": "code",
   "execution_count": 151,
   "metadata": {},
   "outputs": [],
   "source": [
    "# Skeleton\n",
    "def mean(Data):\n",
    "    m=0.\n",
    "    \n",
    "    ### BEGIN SOLUTION\n",
    "    sum = 0\n",
    "    count = len(Data)\n",
    "    for value in Data:       \n",
    "        sum += value\n",
    "    m = sum/count\n",
    "    ### END SOLUTION\n",
    "    \n",
    "    return m"
   ]
  },
  {
   "cell_type": "code",
   "execution_count": 152,
   "metadata": {},
   "outputs": [
    {
     "name": "stdout",
     "output_type": "stream",
     "text": [
      "Mean of Data: -0.33213805983045847\n"
     ]
    }
   ],
   "source": [
    "# Test your solution here\n",
    "print (\"Mean of Data:\", mean(data))"
   ]
  },
  {
   "cell_type": "markdown",
   "metadata": {},
   "source": [
    "*Exercise 2b:* \n",
    "Write a function that computes the variance of values in a list. Recall the equation for the variance of a random variable $\\bf{x}$ computed on a data set of $n$ values $\\{ x_i \\} = \\{x_1, x_2, ..., x_n\\}$  is ${\\bf\\langle x \\rangle} = \\frac{1}{n} \\sum_i^n (x_i - {\\bf\\bar{x}})$."
   ]
  },
  {
   "cell_type": "code",
   "execution_count": 153,
   "metadata": {},
   "outputs": [],
   "source": [
    "# Skeleton\n",
    "def variance(Data):\n",
    "    m=0.\n",
    "    \n",
    "    ### BEGIN SOLUTION\n",
    "    count = len(Data)\n",
    "    sum = 0\n",
    "    for value in Data:\n",
    "        sum += (value-mean(Data))**2\n",
    "    m = sum/count\n",
    "    ### END SOLUTION\n",
    "    \n",
    "    return m"
   ]
  },
  {
   "cell_type": "code",
   "execution_count": 154,
   "metadata": {},
   "outputs": [
    {
     "name": "stdout",
     "output_type": "stream",
     "text": [
      "Variance of Data: 33.9408744498079\n"
     ]
    }
   ],
   "source": [
    "# Test your solution here\n",
    "print (\"Variance of Data:\", variance(data))"
   ]
  },
  {
   "cell_type": "markdown",
   "metadata": {},
   "source": [
    "## Histogramming"
   ]
  },
  {
   "cell_type": "markdown",
   "metadata": {},
   "source": [
    "*Exercise 3:* Write a function that bins the data so that you can create a histogram. An example of how to implement histogramming is the following logic:\n",
    "\n",
    "* User inputs a list of values `x` and optionally `n_bins` which defaults to 10.\n",
    "* If not supplied, find the minimum and maximum (`x_min`,`x_max`) of the values in x.\n",
    "* Determine the bin size (`bin_size`) by dividing the range of the function by the number of bins.\n",
    "* Create an empty list of zeros of size `n_bins`, call it `hist`.\n",
    "* Loop over the values in `x`\n",
    "    * Loop over the values in `hist` with index `i`:\n",
    "        * If x is between `x_min+i*bin_size` and `x_min+(i+1)*bin_size`, increment `hist[i].` \n",
    "        * For efficiency, try to use continue to goto the next bin and data point.\n",
    "* Return `hist` and the list corresponding of the bin edges (i.e. of `x_min+i*bin_size`).    "
   ]
  },
  {
   "cell_type": "code",
   "execution_count": 155,
   "metadata": {},
   "outputs": [],
   "source": [
    "# Solution\n",
    "def histogram(x,n_bins=10,x_min=None,x_max=None):\n",
    "    ### BEGIN SOLUTION\n",
    "    if x_max == None:\n",
    "        x_max = max(x)\n",
    "    if x_min == None:\n",
    "        x_min = min(x)\n",
    "        \n",
    "    bin_size = (x_max - x_min) / n_bins\n",
    "    hist = [0]*n_bins\n",
    "    bin_edges = list()\n",
    "    for value in x:\n",
    "        for i in range(len(hist)):\n",
    "            if value >= x_min+i*bin_size and value < x_min+(i+1)*bin_size:\n",
    "                hist[i] += 1\n",
    "    bin_edges = [(x_min+i*bin_size, x_min+(i+1)*bin_size) for i in range(n_bins)]\n",
    "    ### END SOLUTION\n",
    "\n",
    "    return hist,bin_edges"
   ]
  },
  {
   "cell_type": "code",
   "execution_count": 156,
   "metadata": {},
   "outputs": [
    {
     "name": "stdout",
     "output_type": "stream",
     "text": [
      "[16, 11, 13, 12, 10, 10, 11, 4, 12, 7, 16, 12, 8, 17, 7, 7, 18, 10, 8, 6, 12, 6, 16, 11, 16, 5, 9, 9, 9, 11, 10, 16, 11, 14, 9, 7, 11, 13, 12, 15, 11, 7, 4, 10, 22, 9, 8, 7, 13, 8, 11, 4, 9, 5, 13, 6, 11, 8, 8, 7, 10, 7, 11, 5, 11, 15, 13, 7, 10, 8, 7, 7, 13, 15, 10, 10, 11, 7, 12, 10, 5, 6, 7, 12, 11, 6, 13, 7, 13, 5, 7, 8, 9, 9, 8, 19, 9, 9, 12, 7]\n",
      "[(-9.968721305229185, -9.769128620859341), (-9.769128620859341, -9.569535936489496), (-9.569535936489496, -9.369943252119652), (-9.369943252119652, -9.170350567749807), (-9.170350567749807, -8.970757883379964), (-8.970757883379964, -8.77116519901012), (-8.77116519901012, -8.571572514640275), (-8.571572514640275, -8.371979830270432), (-8.371979830270432, -8.172387145900586), (-8.172387145900586, -7.972794461530743), (-7.972794461530743, -7.773201777160898), (-7.773201777160898, -7.573609092791054), (-7.573609092791054, -7.37401640842121), (-7.37401640842121, -7.1744237240513655), (-7.1744237240513655, -6.974831039681522), (-6.974831039681522, -6.775238355311677), (-6.775238355311677, -6.575645670941833), (-6.575645670941833, -6.376052986571989), (-6.376052986571989, -6.176460302202145), (-6.176460302202145, -5.9768676178323), (-5.9768676178323, -5.777274933462456), (-5.777274933462456, -5.577682249092612), (-5.577682249092612, -5.378089564722768), (-5.378089564722768, -5.178496880352924), (-5.178496880352924, -4.9789041959830795), (-4.9789041959830795, -4.779311511613235), (-4.779311511613235, -4.579718827243391), (-4.579718827243391, -4.3801261428735465), (-4.3801261428735465, -4.180533458503703), (-4.180533458503703, -3.9809407741338587), (-3.9809407741338587, -3.7813480897640144), (-3.7813480897640144, -3.58175540539417), (-3.58175540539417, -3.3821627210243257), (-3.3821627210243257, -3.1825700366544813), (-3.1825700366544813, -2.982977352284637), (-2.982977352284637, -2.7833846679147936), (-2.7833846679147936, -2.583791983544949), (-2.583791983544949, -2.384199299175105), (-2.384199299175105, -2.1846066148052605), (-2.1846066148052605, -1.9850139304354162), (-1.9850139304354162, -1.7854212460655727), (-1.7854212460655727, -1.5858285616957275), (-1.5858285616957275, -1.386235877325884), (-1.386235877325884, -1.1866431929560388), (-1.1866431929560388, -0.9870505085861954), (-0.9870505085861954, -0.7874578242163519), (-0.7874578242163519, -0.5878651398465067), (-0.5878651398465067, -0.3882724554766632), (-0.3882724554766632, -0.188679771106818), (-0.188679771106818, 0.010912913263025459), (0.010912913263025459, 0.2105055976328707), (0.2105055976328707, 0.41009828200271414), (0.41009828200271414, 0.6096909663725576), (0.6096909663725576, 0.8092836507424028), (0.8092836507424028, 1.0088763351122463), (1.0088763351122463, 1.2084690194820915), (1.2084690194820915, 1.408061703851935), (1.408061703851935, 1.6076543882217784), (1.6076543882217784, 1.8072470725916236), (1.8072470725916236, 2.006839756961467), (2.006839756961467, 2.2064324413313123), (2.2064324413313123, 2.406025125701156), (2.406025125701156, 2.605617810071001), (2.605617810071001, 2.8052104944408445), (2.8052104944408445, 3.004803178810688), (3.004803178810688, 3.204395863180533), (3.204395863180533, 3.4039885475503766), (3.4039885475503766, 3.603581231920222), (3.603581231920222, 3.8031739162900653), (3.8031739162900653, 4.0027666006599105), (4.0027666006599105, 4.202359285029754), (4.202359285029754, 4.401951969399597), (4.401951969399597, 4.601544653769443), (4.601544653769443, 4.801137338139286), (4.801137338139286, 5.000730022509131), (5.000730022509131, 5.200322706878975), (5.200322706878975, 5.399915391248818), (5.399915391248818, 5.5995080756186635), (5.5995080756186635, 5.799100759988507), (5.799100759988507, 5.998693444358352), (5.998693444358352, 6.198286128728196), (6.198286128728196, 6.397878813098039), (6.397878813098039, 6.597471497467886), (6.597471497467886, 6.7970641818377295), (6.7970641818377295, 6.996656866207573), (6.996656866207573, 7.196249550577416), (7.196249550577416, 7.39584223494726), (7.39584223494726, 7.595434919317107), (7.595434919317107, 7.79502760368695), (7.79502760368695, 7.994620288056794), (7.994620288056794, 8.194212972426637), (8.194212972426637, 8.39380565679648), (8.39380565679648, 8.593398341166328), (8.593398341166328, 8.792991025536171), (8.792991025536171, 8.992583709906015), (8.992583709906015, 9.192176394275858), (9.192176394275858, 9.391769078645702), (9.391769078645702, 9.591361763015549), (9.591361763015549, 9.790954447385392), (9.790954447385392, 9.990547131755235)]\n"
     ]
    }
   ],
   "source": [
    "# Test your solution here\n",
    "h,b=histogram(data,100)\n",
    "print(h)\n",
    "print(b)"
   ]
  },
  {
   "cell_type": "markdown",
   "metadata": {},
   "source": [
    "*Exercise 4:* Write a function that uses the histogram function in the previous exercise to create a text-based \"graph\". For example the output could look like the following:\n",
    "```\n",
    "[  0,  1] : ######\n",
    "[  1,  2] : #####\n",
    "[  2,  3] : ######\n",
    "[  3,  4] : ####\n",
    "[  4,  5] : ####\n",
    "[  5,  6] : ######\n",
    "[  6,  7] : #####\n",
    "[  7,  8] : ######\n",
    "[  8,  9] : ####\n",
    "[  9, 10] : #####\n",
    "```\n",
    "\n",
    "Where each line corresponds to a bin and the number of `#`'s are proportional to the value of the data in the bin. "
   ]
  },
  {
   "cell_type": "code",
   "execution_count": 157,
   "metadata": {},
   "outputs": [],
   "source": [
    "# Solution\n",
    "def draw_histogram(x,n_bins,x_min=None,x_max=None,character=\"#\",max_character_per_line=20):\n",
    "    ### BEGIN SOLUTION\n",
    "    hist,bin_edges=histogram(x,n_bins,x_min,x_max)\n",
    "    scale = 1\n",
    "    for i in range(len(hist)):\n",
    "        while hist[i] > (scale * max_character_per_line):\n",
    "            scale += 1\n",
    "    for j in range(len(bin_edges)):\n",
    "        num_char = hist[j]\n",
    "        a,b = bin_edges[j]\n",
    "        print(f'[{round(a,2)}, {round(b,2)}] : {character*int(num_char/scale)}')\n",
    "    ### END SOLUTION\n",
    "\n",
    "    return hist,bin_edges"
   ]
  },
  {
   "cell_type": "code",
   "execution_count": 158,
   "metadata": {},
   "outputs": [
    {
     "name": "stdout",
     "output_type": "stream",
     "text": [
      "[-9.97, -8.97] : ###############\n",
      "[-8.97, -7.97] : ###########\n",
      "[-7.97, -6.97] : ###############\n",
      "[-6.97, -5.98] : ############\n",
      "[-5.98, -4.98] : ###############\n",
      "[-4.98, -3.98] : ##########\n",
      "[-3.98, -2.98] : ###############\n",
      "[-2.98, -1.99] : ##############\n",
      "[-1.99, -0.99] : #############\n",
      "[-0.99, 0.01] : ###########\n",
      "[0.01, 1.01] : ##########\n",
      "[1.01, 2.01] : ##########\n",
      "[2.01, 3.0] : ###########\n",
      "[3.0, 4.0] : #############\n",
      "[4.0, 5.0] : #############\n",
      "[5.0, 6.0] : ############\n",
      "[6.0, 7.0] : ##########\n",
      "[7.0, 7.99] : ###########\n",
      "[7.99, 8.99] : ##########\n",
      "[8.99, 9.99] : ##############\n"
     ]
    }
   ],
   "source": [
    "# Test your solution here\n",
    "h,b = draw_histogram(data,20)"
   ]
  },
  {
   "cell_type": "markdown",
   "metadata": {},
   "source": [
    "## Functional Programming\n",
    "\n",
    "*Exercise 5:* Write a function the applies a booling function (that returns true/false) to every element in data, and return a list of indices of elements where the result was true. Use this function to find the indices of entries greater than 0.5. "
   ]
  },
  {
   "cell_type": "code",
   "execution_count": 159,
   "metadata": {},
   "outputs": [],
   "source": [
    "def where(mylist,myfunc):\n",
    "    out= []\n",
    "    \n",
    "    ### BEGIN SOLUTION\n",
    "\n",
    "    for i in range(len(mylist)):\n",
    "        if myfunc(mylist[i]) == True:\n",
    "            out.append(i)\n",
    "    \n",
    "    ### END SOLUTION\n",
    "    \n",
    "    return out"
   ]
  },
  {
   "cell_type": "code",
   "execution_count": 160,
   "metadata": {},
   "outputs": [
    {
     "data": {
      "text/plain": [
       "[2, 3, 4]"
      ]
     },
     "execution_count": 160,
     "metadata": {},
     "output_type": "execute_result"
    }
   ],
   "source": [
    "# Test your solution here\n",
    "def greater_than_a_half(num=None):\n",
    "    if num != None:\n",
    "        if num > 0.5:\n",
    "            return True\n",
    "        return False\n",
    "where([0.25,.5,1,.6,.95,.06],greater_than_a_half)"
   ]
  },
  {
   "cell_type": "markdown",
   "metadata": {},
   "source": [
    "*Exercise 6:* The `inrange(mymin,mymax)` function below returns a function that tests if it's input is between the specified values. Write corresponding functions that test:\n",
    "* Even\n",
    "* Odd\n",
    "* Greater than\n",
    "* Less than\n",
    "* Equal\n",
    "* Divisible by"
   ]
  },
  {
   "cell_type": "code",
   "execution_count": 161,
   "metadata": {},
   "outputs": [
    {
     "name": "stdout",
     "output_type": "stream",
     "text": [
      "True True False False False\n",
      "False False True True False\n",
      "Number of Entries passing F1: 464\n",
      "Number of Entries passing F2: 0\n"
     ]
    }
   ],
   "source": [
    "def inrange(mymin,mymax):\n",
    "    def testrange(x):\n",
    "        return x<mymax and x>=mymin\n",
    "    return testrange\n",
    "\n",
    "# Examples:\n",
    "F1=inrange(0,10)\n",
    "F2=inrange(10,20)\n",
    "\n",
    "# Test of in_range\n",
    "print (F1(0), F1(1), F1(10), F1(15), F1(20))\n",
    "print (F2(0), F2(1), F2(10), F2(15), F2(20))\n",
    "\n",
    "print (\"Number of Entries passing F1:\", len(where(data,F1)))\n",
    "print (\"Number of Entries passing F2:\", len(where(data,F2)))"
   ]
  },
  {
   "cell_type": "code",
   "execution_count": 162,
   "metadata": {},
   "outputs": [],
   "source": [
    "### BEGIN SOLUTION\n",
    "\n",
    "def is_Even(num):\n",
    "    return num % 2 == 0\n",
    "def is_Odd(num):\n",
    "    return not (is_Even(num))\n",
    "def Greater_Than(num1,num2):\n",
    "   return num1 > num2\n",
    "def Less_Than(num1,num2):\n",
    "    return num1 < num2\n",
    "def is_Equal(num1,num2):\n",
    "    return num1 == num2\n",
    "def Divisible_by(num,factor):\n",
    "    return num % factor == 0\n",
    "    \n",
    "### END SOLUTION"
   ]
  },
  {
   "cell_type": "code",
   "execution_count": 163,
   "metadata": {},
   "outputs": [
    {
     "name": "stdout",
     "output_type": "stream",
     "text": [
      "False False False True True False\n"
     ]
    }
   ],
   "source": [
    "print(is_Even(1),is_Odd(2),Greater_Than(2,3),Less_Than(3,4),is_Equal(5,5),Divisible_by(3,2))"
   ]
  },
  {
   "cell_type": "markdown",
   "metadata": {},
   "source": [
    "*Exercise 7:* Repeat the previous exercise using `lambda` and the built-in python functions sum and map instead of your solution above. "
   ]
  },
  {
   "cell_type": "code",
   "execution_count": 164,
   "metadata": {},
   "outputs": [
    {
     "name": "stdout",
     "output_type": "stream",
     "text": [
      "[False, True, False, True, False, True, False, True, False]\n",
      "[True, False, True, False, True, False, True, False, True]\n",
      "[False, False, False, False, False, False, False, False, False]\n",
      "[True, True, True, True, True, True, True, True, True]\n",
      "[False, False, False, False, False, False, False, False, False]\n",
      "[False, False, True, False, False, True, False, False, True]\n"
     ]
    }
   ],
   "source": [
    "### BEGIN SOLUTION\n",
    "list1 = range(1,10)\n",
    "\n",
    "even = lambda x: x % 2 ==0\n",
    "solution = map(lambda x:even(x),list1)\n",
    "print(list(solution))\n",
    "\n",
    "odd = lambda x: not even(x)\n",
    "solution = map(lambda x:odd(x),list1)\n",
    "print(list(solution))\n",
    "\n",
    "greater_than = lambda x,y: x > y\n",
    "solution = map(lambda x:greater_than(x,10),list1)\n",
    "print(list(solution))\n",
    "\n",
    "less_than = lambda x,y: not greater_than(x,y)\n",
    "solution = map(lambda x:less_than(x,10),list1)\n",
    "print(list(solution))\n",
    "\n",
    "is_equal = lambda x,y: x == y\n",
    "solution = map(lambda x:is_equal(x,10),list1)\n",
    "print(list(solution))\n",
    "\n",
    "divisible_by = lambda x,y: x % y == 0\n",
    "solution = map(lambda x: divisible_by(x,3),list1)\n",
    "print(list(solution))\n",
    "### END SOLUTION\n",
    "                   "
   ]
  },
  {
   "cell_type": "markdown",
   "metadata": {},
   "source": [
    "## Monte Carlo\n",
    "\n",
    "*Exercise 7:* Write a \"generator\" function called `generate_function(func,x_min,x_max,N)`, that instead of generating a flat distribution, generates a distribution with functional form coded in `func`. Note that `func` will always be > 0.  \n",
    "\n",
    "Use the test function below and your histogramming functions above to demonstrate that your generator is working properly.\n",
    "\n",
    "Hint: A simple, but slow, solution is to a draw random number `test_x` within the specified range and another number `p` between the `min` and `max` of the function (which you will have to determine). If `p<=function(test_x)`, then place `test_x` on the output. If not, repeat the process, drawing two new numbers. Repeat until you have the specified number of generated numbers, `N`. For this problem, it's OK to determine the `min` and `max` by numerically sampling the function.  "
   ]
  },
  {
   "cell_type": "code",
   "execution_count": 189,
   "metadata": {},
   "outputs": [],
   "source": [
    "def generate_function(func,x_min,x_max,N=1000):\n",
    "    out = list()\n",
    "\n",
    "    #Finding max and min of func\n",
    "    sample = list()\n",
    "    for _ in range(1000):\n",
    "        x = random.random()       \n",
    "        x = x * (x_max-x_min)+x_min\n",
    "        sample.append(func(x))\n",
    "\n",
    "    y_max = max(sample)\n",
    "    y_min = min(sample)\n",
    "\n",
    "    #Using Monte Carlo Method to generate func\n",
    "    i=0\n",
    "    while (i < N):\n",
    "        test_x = random.random()\n",
    "        test_x = test_x * (x_max-x_min)+x_min\n",
    "        p = random.random()       \n",
    "        p = p * (y_max-y_min)+y_min\n",
    "        if p <= func(test_x):\n",
    "            out.append(test_x)\n",
    "            i += 1\n",
    "    return out"
   ]
  },
  {
   "cell_type": "code",
   "execution_count": 200,
   "metadata": {},
   "outputs": [
    {
     "name": "stdout",
     "output_type": "stream",
     "text": [
      "[5.42, 7.31] : \n",
      "[7.31, 9.2] : #\n",
      "[9.2, 11.09] : #\n",
      "[11.09, 12.98] : \n",
      "[12.98, 14.87] : ##\n",
      "[14.87, 16.76] : \n",
      "[16.76, 18.65] : ##\n",
      "[18.65, 20.54] : ##\n",
      "[20.54, 22.44] : ####\n",
      "[22.44, 24.33] : ###\n",
      "[24.33, 26.22] : ####\n",
      "[26.22, 28.11] : ##\n",
      "[28.11, 30.0] : ###\n",
      "[30.0, 31.89] : ##\n",
      "[31.89, 33.78] : ####\n",
      "[33.78, 35.67] : ######\n",
      "[35.67, 37.56] : #######\n",
      "[37.56, 39.45] : ######\n",
      "[39.45, 41.34] : #####\n",
      "[41.34, 43.23] : #######\n",
      "[43.23, 45.12] : #####\n",
      "[45.12, 47.01] : #####\n",
      "[47.01, 48.9] : ######\n",
      "[48.9, 50.8] : ########\n",
      "[50.8, 52.69] : #######\n",
      "[52.69, 54.58] : #######\n",
      "[54.58, 56.47] : #########\n",
      "[56.47, 58.36] : ######\n",
      "[58.36, 60.25] : ###########\n",
      "[60.25, 62.14] : #####\n",
      "[62.14, 64.03] : #######\n",
      "[64.03, 65.92] : ######\n",
      "[65.92, 67.81] : ###########\n",
      "[67.81, 69.7] : #######\n",
      "[69.7, 71.59] : ########\n",
      "[71.59, 73.48] : #########\n",
      "[73.48, 75.37] : ########\n",
      "[75.37, 77.26] : ######\n",
      "[77.26, 79.16] : #########\n",
      "[79.16, 81.05] : ###########\n",
      "[81.05, 82.94] : #########\n",
      "[82.94, 84.83] : #########\n",
      "[84.83, 86.72] : ##########\n",
      "[86.72, 88.61] : ##########\n",
      "[88.61, 90.5] : ##############\n",
      "[90.5, 92.39] : #########\n",
      "[92.39, 94.28] : ############\n",
      "[94.28, 96.17] : #############\n",
      "[96.17, 98.06] : #############\n",
      "[98.06, 99.95] : #######\n"
     ]
    }
   ],
   "source": [
    "# A test function\n",
    "def test_func(x,a=1,b=1):\n",
    "    return abs(a*x+b)\n",
    "\n",
    "data = generate_function(test_func,1,100)\n",
    "h,b = draw_histogram(data,50)"
   ]
  },
  {
   "cell_type": "markdown",
   "metadata": {},
   "source": [
    "*Exercise 8:* Use your function to generate 1000 numbers that are normal distributed, using the `gaussian` function below. Confirm the mean and variance of the data is close to the mean and variance you specify when building the Gaussian. Histogram the data. "
   ]
  },
  {
   "cell_type": "code",
   "execution_count": 201,
   "metadata": {},
   "outputs": [],
   "source": [
    "import math\n",
    "\n",
    "def gaussian(mean, sigma):\n",
    "    def f(x):\n",
    "        return math.exp(-((x-mean)**2)/(2*sigma**2))/math.sqrt(math.pi*sigma)\n",
    "    return f\n",
    "\n",
    "# Example Instantiation\n",
    "g1=gaussian(0,1)\n",
    "g2=gaussian(10,3)"
   ]
  },
  {
   "cell_type": "code",
   "execution_count": 206,
   "metadata": {},
   "outputs": [
    {
     "name": "stdout",
     "output_type": "stream",
     "text": [
      "[-3.13, -3.01] : \n",
      "[-3.01, -2.89] : \n",
      "[-2.89, -2.77] : \n",
      "[-2.77, -2.65] : #\n",
      "[-2.65, -2.53] : \n",
      "[-2.53, -2.41] : \n",
      "[-2.41, -2.29] : \n",
      "[-2.29, -2.17] : #\n",
      "[-2.17, -2.05] : #\n",
      "[-2.05, -1.93] : ##\n",
      "[-1.93, -1.81] : ##\n",
      "[-1.81, -1.69] : #\n",
      "[-1.69, -1.57] : ###\n",
      "[-1.57, -1.45] : ###\n",
      "[-1.45, -1.33] : ####\n",
      "[-1.33, -1.21] : #####\n",
      "[-1.21, -1.09] : ######\n",
      "[-1.09, -0.96] : ####\n",
      "[-0.96, -0.84] : ########\n",
      "[-0.84, -0.72] : ########\n",
      "[-0.72, -0.6] : ###########\n",
      "[-0.6, -0.48] : #########\n",
      "[-0.48, -0.36] : ##########\n",
      "[-0.36, -0.24] : ###########\n",
      "[-0.24, -0.12] : #################\n",
      "[-0.12, -0.0] : ##########\n",
      "[-0.0, 0.12] : ############\n",
      "[0.12, 0.24] : ###########\n",
      "[0.24, 0.36] : ##########\n",
      "[0.36, 0.48] : ############\n",
      "[0.48, 0.6] : ########\n",
      "[0.6, 0.72] : ###########\n",
      "[0.72, 0.84] : #########\n",
      "[0.84, 0.96] : ########\n",
      "[0.96, 1.08] : #########\n",
      "[1.08, 1.2] : ######\n",
      "[1.2, 1.32] : #####\n",
      "[1.32, 1.44] : ###\n",
      "[1.44, 1.56] : ##\n",
      "[1.56, 1.68] : ####\n",
      "[1.68, 1.81] : #\n",
      "[1.81, 1.93] : \n",
      "[1.93, 2.05] : ##\n",
      "[2.05, 2.17] : #\n",
      "[2.17, 2.29] : #\n",
      "[2.29, 2.41] : \n",
      "[2.41, 2.53] : \n",
      "[2.53, 2.65] : \n",
      "[2.65, 2.77] : \n",
      "[2.77, 2.89] : \n",
      "-0.0\n",
      "1.0\n"
     ]
    }
   ],
   "source": [
    "data = generate_function(g1,-10,10,1000)\n",
    "h,b = draw_histogram(data,50)\n",
    "print(round(mean(data),0)) # Should be 0\n",
    "print(round(variance(data),0)) # Should be 1"
   ]
  },
  {
   "cell_type": "code",
   "execution_count": 211,
   "metadata": {},
   "outputs": [
    {
     "name": "stdout",
     "output_type": "stream",
     "text": [
      "[0.41, 0.78] : \n",
      "[0.78, 1.14] : \n",
      "[1.14, 1.51] : \n",
      "[1.51, 1.88] : \n",
      "[1.88, 2.24] : \n",
      "[2.24, 2.61] : \n",
      "[2.61, 2.97] : #\n",
      "[2.97, 3.34] : \n",
      "[3.34, 3.71] : #\n",
      "[3.71, 4.07] : ##\n",
      "[4.07, 4.44] : ##\n",
      "[4.44, 4.8] : ######\n",
      "[4.8, 5.17] : ##\n",
      "[5.17, 5.54] : ###\n",
      "[5.54, 5.9] : ######\n",
      "[5.9, 6.27] : #####\n",
      "[6.27, 6.64] : ######\n",
      "[6.64, 7.0] : ###########\n",
      "[7.0, 7.37] : #######\n",
      "[7.37, 7.73] : ##########\n",
      "[7.73, 8.1] : ###########\n",
      "[8.1, 8.47] : ###############\n",
      "[8.47, 8.83] : ##############\n",
      "[8.83, 9.2] : ##################\n",
      "[9.2, 9.56] : ################\n",
      "[9.56, 9.93] : ###############\n",
      "[9.93, 10.3] : #################\n",
      "[10.3, 10.66] : #################\n",
      "[10.66, 11.03] : #############\n",
      "[11.03, 11.4] : ############\n",
      "[11.4, 11.76] : ###########\n",
      "[11.76, 12.13] : #############\n",
      "[12.13, 12.49] : #############\n",
      "[12.49, 12.86] : ############\n",
      "[12.86, 13.23] : ############\n",
      "[13.23, 13.59] : ######\n",
      "[13.59, 13.96] : ####\n",
      "[13.96, 14.32] : ########\n",
      "[14.32, 14.69] : ########\n",
      "[14.69, 15.06] : #######\n",
      "[15.06, 15.42] : ###\n",
      "[15.42, 15.79] : ###\n",
      "[15.79, 16.15] : ###\n",
      "[16.15, 16.52] : #\n",
      "[16.52, 16.89] : \n",
      "[16.89, 17.25] : ##\n",
      "[17.25, 17.62] : \n",
      "[17.62, 17.99] : \n",
      "[17.99, 18.35] : \n",
      "[18.35, 18.72] : \n",
      "10.0\n",
      "9.0\n"
     ]
    }
   ],
   "source": [
    "data = generate_function(g2,0,20,1000)\n",
    "h,b = draw_histogram(data,50)\n",
    "print(round(mean(data),0)) # Should be 10\n",
    "print(round(variance(data),0)) # Should be 9"
   ]
  },
  {
   "cell_type": "markdown",
   "metadata": {},
   "source": [
    "*Exercise 9:* Combine your `generate_function`, `where`, and `in_range` functions above to create an integrate function. Use your integrate function to show that approximately 68% of Normal distribution is within one variance."
   ]
  },
  {
   "cell_type": "code",
   "execution_count": 279,
   "metadata": {},
   "outputs": [],
   "source": [
    "def integrate(func, x_min, x_max, n_points=1000):\n",
    "    data = generate_function(func,x_min,x_max,n_points)\n",
    "    integral = len(where(data,in_range(math.sqrt(variance(data))*-1 + mean(data),math.sqrt(variance(data))+mean(data))))/len(data)\n",
    "    return integral"
   ]
  },
  {
   "cell_type": "code",
   "execution_count": 280,
   "metadata": {},
   "outputs": [
    {
     "data": {
      "text/plain": [
       "0.686"
      ]
     },
     "execution_count": 280,
     "metadata": {},
     "output_type": "execute_result"
    }
   ],
   "source": [
    "integrate(g1,-3,3)"
   ]
  }
 ],
 "metadata": {
  "kernelspec": {
   "display_name": "Python 3 (ipykernel)",
   "language": "python",
   "name": "python3"
  },
  "language_info": {
   "codemirror_mode": {
    "name": "ipython",
    "version": 3
   },
   "file_extension": ".py",
   "mimetype": "text/x-python",
   "name": "python",
   "nbconvert_exporter": "python",
   "pygments_lexer": "ipython3",
   "version": "3.10.12"
  }
 },
 "nbformat": 4,
 "nbformat_minor": 4
}
